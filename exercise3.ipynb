{
 "cells": [
  {
   "cell_type": "code",
   "execution_count": 1,
   "metadata": {},
   "outputs": [],
   "source": [
    "import numpy as np\n",
    "import os\n",
    "import pandas as pd"
   ]
  },
  {
   "cell_type": "code",
   "execution_count": 2,
   "metadata": {},
   "outputs": [],
   "source": [
    "labels = pd.read_csv(\"HASYv2/hasy-data-labels.csv\")"
   ]
  },
  {
   "cell_type": "code",
   "execution_count": 3,
   "metadata": {},
   "outputs": [],
   "source": [
    "include = np.arange(70, 80, 1)\n",
    "\n",
    "y = labels.loc[labels['symbol_id'].isin(include)]\n"
   ]
  },
  {
   "cell_type": "code",
   "execution_count": 4,
   "metadata": {},
   "outputs": [
    {
     "data": {
      "text/plain": [
       "(1020, 4)"
      ]
     },
     "execution_count": 4,
     "metadata": {},
     "output_type": "execute_result"
    }
   ],
   "source": [
    "# Check numbers of examples\n",
    "y.shape"
   ]
  },
  {
   "cell_type": "code",
   "execution_count": 8,
   "metadata": {},
   "outputs": [
    {
     "data": {
      "text/plain": [
       "(1020, 1024)"
      ]
     },
     "execution_count": 8,
     "metadata": {},
     "output_type": "execute_result"
    }
   ],
   "source": [
    "from scipy.misc import imread\n",
    "\n",
    "# Read the specified images as flat vectors\n",
    "samples = []\n",
    "for filename in y[\"path\"]:\n",
    "    img = imread(\"HASYv2/\"+filename, mode='L').reshape(-1)\n",
    "    samples.append(img)\n",
    "\n",
    "X = pd.DataFrame.from_records(samples).as_matrix()\n",
    "# Check dims\n",
    "X.shape"
   ]
  },
  {
   "cell_type": "code",
   "execution_count": 9,
   "metadata": {},
   "outputs": [
    {
     "name": "stdout",
     "output_type": "stream",
     "text": [
      "(816, 1024) (816,) (204, 1024) (204,)\n"
     ]
    }
   ],
   "source": [
    "# Split into train and test and take only labels from y\n",
    "\n",
    "from sklearn.utils import shuffle\n",
    "X, y = shuffle(X, y)\n",
    "\n",
    "X_train = X[:int(X.shape[0] * 0.8), :]\n",
    "y_train = y[\"symbol_id\"].as_matrix()[:int(y.shape[0] * 0.8)]\n",
    "\n",
    "X_test = X[int(X.shape[0] * 0.8):, :]\n",
    "y_test = y[\"symbol_id\"].as_matrix()[int(y.shape[0] * 0.8):]\n",
    "\n",
    "# Confirm shapes\n",
    "print(X_train.shape, y_train.shape, X_test.shape, y_test.shape)"
   ]
  },
  {
   "cell_type": "code",
   "execution_count": 10,
   "metadata": {},
   "outputs": [
    {
     "data": {
      "text/plain": [
       "LogisticRegression(C=1.0, class_weight=None, dual=False, fit_intercept=True,\n",
       "          intercept_scaling=1, max_iter=100, multi_class='ovr', n_jobs=1,\n",
       "          penalty='l2', random_state=None, solver='liblinear', tol=0.0001,\n",
       "          verbose=0, warm_start=False)"
      ]
     },
     "execution_count": 10,
     "metadata": {},
     "output_type": "execute_result"
    }
   ],
   "source": [
    "from sklearn.linear_model import LogisticRegression\n",
    "\n",
    "lr = LogisticRegression()\n",
    "\n",
    "lr.fit(X_train, y_train)"
   ]
  },
  {
   "cell_type": "code",
   "execution_count": 11,
   "metadata": {},
   "outputs": [
    {
     "name": "stdout",
     "output_type": "stream",
     "text": [
      "0.877450980392\n"
     ]
    }
   ],
   "source": [
    "# Evaluate on test set\n",
    "from sklearn.metrics import accuracy_score\n",
    "\n",
    "print(accuracy_score(y_test, lr.predict(X_test)))"
   ]
  },
  {
   "cell_type": "code",
   "execution_count": 12,
   "metadata": {},
   "outputs": [
    {
     "name": "stdout",
     "output_type": "stream",
     "text": [
      "0.107843137255\n"
     ]
    }
   ],
   "source": [
    "# Naive classifier\n",
    "from scipy import stats\n",
    "\n",
    "\n",
    "def naive_classify(y_train, X_test):\n",
    "    most_common = int(stats.mode(y_train).mode[0])\n",
    "    return np.ones(X_test.shape[0]) * most_common\n",
    "\n",
    "print(accuracy_score(y_test, naive_classify(y_train, X_test)))"
   ]
  },
  {
   "cell_type": "markdown",
   "metadata": {},
   "source": [
    "### This time train a random forest classifier on the data. A random forest is a collection of decision trees, which makes it an ensemble of classifiers. Each tree uses a random subset of the features to make it's prediction. Without tuning any parameters, how is the accuracy?"
   ]
  },
  {
   "cell_type": "code",
   "execution_count": 14,
   "metadata": {},
   "outputs": [
    {
     "name": "stdout",
     "output_type": "stream",
     "text": [
      "0.745098039216\n"
     ]
    }
   ],
   "source": [
    "from sklearn.ensemble import RandomForestClassifier\n",
    "\n",
    "rf = RandomForestClassifier()\n",
    "rf.fit(X_train, y_train)\n",
    "\n",
    "print(accuracy_score(y_test, rf.predict(X_test)))"
   ]
  },
  {
   "cell_type": "markdown",
   "metadata": {},
   "source": [
    "### The amount of trees to use as a part of the random forest is an example of a hyperparameter, because it is a parameter that is set prior to the learning process. In contrast, a parameter is a value in the model that is learned from the data. Train 20 classifiers, with varying amounts of decision trees starting from 10 up until 200, and plot the test accuracy as a function of the amount of classifiers. Does the accuracy keep increasing? Is more better?\n",
    "\n",
    "Clearly more is not better, but the accuracy is more or less the same"
   ]
  },
  {
   "cell_type": "code",
   "execution_count": 15,
   "metadata": {},
   "outputs": [
    {
     "data": {
      "image/png": "[encoded data removed]",
      "text/plain": [
       "<matplotlib.figure.Figure at 0x7f909218bd68>"
      ]
     },
     "metadata": {},
     "output_type": "display_data"
    }
   ],
   "source": [
    "from sklearn.ensemble import RandomForestClassifier\n",
    "\n",
    "accs = []\n",
    "trees = np.arange(10, 200, 10)\n",
    "for i in trees:\n",
    "    rf = RandomForestClassifier(n_estimators=i)\n",
    "    rf.fit(X_train, y_train)\n",
    "\n",
    "    acc = accuracy_score(y_test, rf.predict(X_test))\n",
    "    accs.append(acc)\n",
    "\n",
    "import matplotlib.pyplot as plt\n",
    "\n",
    "plt.plot(trees, accs)\n",
    "plt.show()"
   ]
  },
  {
   "cell_type": "markdown",
   "metadata": {},
   "source": [
    "### If we had picked the amount of decision trees by taking the value with the best test accuracy from the last plot, we would have overfit our hyperparameters to the test data. Can you see why it is a mistake to tune hyperparameters of your model by using the test data?\n",
    "\n",
    "Finding the optimal parameters for your test data simply overfits to it, and since we are interested in how well the model generalizes, this is a bad thing."
   ]
  },
  {
   "cell_type": "markdown",
   "metadata": {},
   "source": [
    "### Reshuffle and resplit the data so that it is divided in 3 parts: training (80%), validation (10%) and test (10%). Repeatedly train a model of your choosing (e.g random forest) on the training data, and evaluate it's performance on the validation set, while tuning the hyperparameters so that the accuracy on the validation set increases. Then, finally evaluate the performance of your model on the test data. What can you say in terms of the generalization of your model?"
   ]
  },
  {
   "cell_type": "code",
   "execution_count": 16,
   "metadata": {},
   "outputs": [
    {
     "name": "stdout",
     "output_type": "stream",
     "text": [
      "(816, 1024) (816,) (102, 1024) (102,) (102, 1024) (102,)\n"
     ]
    }
   ],
   "source": [
    "from sklearn.utils import shuffle\n",
    "X, y = shuffle(X, y)\n",
    "\n",
    "train_part = int(X.shape[0] * 0.8)\n",
    "val_part = int(X.shape[0] * 0.1)\n",
    "\n",
    "X_train = X[:train_part, :]\n",
    "y_train = y[\"symbol_id\"].as_matrix()[:train_part]\n",
    "\n",
    "X_val = X[train_part: train_part + val_part, :]\n",
    "y_val = y[\"symbol_id\"].as_matrix()[train_part: train_part + val_part:]\n",
    "\n",
    "X_test = X[train_part + val_part:, :]\n",
    "y_test = y[\"symbol_id\"].as_matrix()[train_part + val_part:]\n",
    "\n",
    "# Confirm shapes\n",
    "print(X_train.shape, y_train.shape, X_val.shape, y_val.shape, X_test.shape, y_test.shape)"
   ]
  },
  {
   "cell_type": "code",
   "execution_count": 20,
   "metadata": {},
   "outputs": [
    {
     "name": "stdout",
     "output_type": "stream",
     "text": [
      "best val acc 600\n"
     ]
    }
   ],
   "source": [
    "sizes = np.arange(100, 1000, 100)\n",
    "val_accs = np.zeros(len(sizes))\n",
    "classifiers = []\n",
    "\n",
    "for idx, size in enumerate(sizes):\n",
    "    rf = RandomForestClassifier(n_estimators=size)\n",
    "    rf.fit(X_train, y_train)\n",
    "\n",
    "    acc = accuracy_score(y_val, rf.predict(X_val))\n",
    "    val_accs[idx] = acc\n",
    "    classifiers.append(rf)\n",
    "\n",
    "print(\"best val acc\", sizes[np.argmax(val_accs)])"
   ]
  },
  {
   "cell_type": "code",
   "execution_count": 21,
   "metadata": {},
   "outputs": [
    {
     "name": "stdout",
     "output_type": "stream",
     "text": [
      "0.872549019608\n"
     ]
    }
   ],
   "source": [
    "# Evaluate best classifier on test set\n",
    "# Accuracy is much better than without tuning\n",
    "\n",
    "best = classifiers[np.argmax(val_accs)]\n",
    "\n",
    "print(accuracy_score(y_test, best.predict(X_test)))"
   ]
  },
  {
   "cell_type": "markdown",
   "metadata": {},
   "source": [
    "### This process of picking a suitable model, evaluating it's performance and tuning the hyperparameters is very time consuming. A new idea in machine learning is the concept of automating this by using an optimization algorithm to find the best model in the space of models and their hyperparameters. Have a look at TPOT, an automated ML solution that finds a good model and a good set of hyperparameters automatically. Try it on this data, it should outperform simple models like the ones we tried easily. Note that running the algorithm might take a while, depending on the strength of your computer. TPOT uses cross-validation internally, so we don't need our own validation set.\n",
    "\n",
    "TPOT does the tuning for us, trying out different models and different hyperparameters. "
   ]
  },
  {
   "cell_type": "code",
   "execution_count": 22,
   "metadata": {},
   "outputs": [
    {
     "name": "stdout",
     "output_type": "stream",
     "text": [
      "Version 0.8.3 of tpot is outdated. Version 0.9.0 was released 3 days ago.\n"
     ]
    },
    {
     "name": "stderr",
     "output_type": "stream",
     "text": [
      "Optimization Progress:  50%|█████     | 6/12 [00:24<00:46,  7.68s/pipeline]"
     ]
    },
    {
     "name": "stdout",
     "output_type": "stream",
     "text": [
      "Generation 1 - Current best internal CV score: 0.8011768383848363\n"
     ]
    },
    {
     "name": "stderr",
     "output_type": "stream",
     "text": [
      "Optimization Progress:  75%|███████▌  | 9/12 [00:40<00:25,  8.62s/pipeline]"
     ]
    },
    {
     "name": "stdout",
     "output_type": "stream",
     "text": [
      "Generation 2 - Current best internal CV score: 0.8011768383848363\n"
     ]
    },
    {
     "name": "stderr",
     "output_type": "stream",
     "text": [
      "                                                                            \r"
     ]
    },
    {
     "name": "stdout",
     "output_type": "stream",
     "text": [
      "Generation 3 - Current best internal CV score: 0.8011768383848363\n",
      "\n",
      "Best pipeline: ExtraTreesClassifier(input_matrix, ExtraTreesClassifier__bootstrap=False, ExtraTreesClassifier__criterion=gini, ExtraTreesClassifier__max_features=0.1, ExtraTreesClassifier__min_samples_leaf=3, ExtraTreesClassifier__min_samples_split=13, ExtraTreesClassifier__n_estimators=100)\n",
      "0.852941176471\n"
     ]
    }
   ],
   "source": [
    "from tpot import TPOTClassifier\n",
    "tpot = TPOTClassifier(generations=3, population_size=3, verbosity=2, max_eval_time_mins=1)\n",
    "tpot.fit(X_train, y_train)\n",
    "print(tpot.score(X_test, y_test))"
   ]
  },
  {
   "cell_type": "code",
   "execution_count": null,
   "metadata": {},
   "outputs": [],
   "source": []
  }
 ],
 "metadata": {
  "kernelspec": {
   "display_name": "tf",
   "language": "python",
   "name": "tf"
  },
  "language_info": {
   "codemirror_mode": {
    "name": "ipython",
    "version": 3
   },
   "file_extension": ".py",
   "mimetype": "text/x-python",
   "name": "python",
   "nbconvert_exporter": "python",
   "pygments_lexer": "ipython3",
   "version": "3.5.2"
  }
 },
 "nbformat": 4,
 "nbformat_minor": 2
}
